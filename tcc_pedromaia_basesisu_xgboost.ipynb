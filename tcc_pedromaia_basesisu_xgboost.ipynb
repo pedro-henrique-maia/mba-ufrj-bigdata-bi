{
  "cells": [
    {
      "cell_type": "markdown",
      "metadata": {
        "id": "view-in-github",
        "colab_type": "text"
      },
      "source": [
        "<a href=\"https://colab.research.google.com/github/pedro-henrique-maia/mba-ufrj-bigdata-bi/blob/main/tcc_pedromaia_basesisu_xgboost.ipynb\" target=\"_parent\"><img src=\"https://colab.research.google.com/assets/colab-badge.svg\" alt=\"Open In Colab\"/></a>"
      ]
    },
    {
      "cell_type": "code",
      "execution_count": null,
      "metadata": {
        "id": "kcy2wI8FTmcC",
        "colab": {
          "base_uri": "https://localhost:8080/"
        },
        "outputId": "e62cc6a2-4b14-4882-89ab-f4a4f5ad958b"
      },
      "outputs": [
        {
          "output_type": "stream",
          "name": "stdout",
          "text": [
            "Mounted at /content/drive\n"
          ]
        }
      ],
      "source": [
        "from google.colab import drive\n",
        "drive.mount('/content/drive')"
      ]
    },
    {
      "cell_type": "code",
      "execution_count": null,
      "metadata": {
        "id": "J18kSclt9fNa"
      },
      "outputs": [],
      "source": [
        "import pandas as pd\n",
        "import numpy as np\n",
        "from sklearn import preprocessing\n",
        "\n",
        "# Caminho para o arquivo na pasta do Google Drive\n",
        "root_path = 'drive/MyDrive/TCC_UFRJ_BI/'\n",
        "\n",
        "# Base 2022-2\n",
        "sisu_2022_2 = 'chamada_regular_sisu_2022_2.csv'\n",
        "\n",
        "# Base 2022-1\n",
        "sisu_2022_1 = 'chamada_regular_sisu_2022_1.csv'\n",
        "\n",
        "# Base 2021-2\n",
        "sisu_2021_2 = 'chamada_regular_sisu_2021_2.csv'\n",
        "\n",
        "# Base 2021-1\n",
        "sisu_2021_1 = 'chamada_regular_sisu_2021_1.csv'\n",
        "\n",
        "# Base 2020-2\n",
        "sisu_2020_2 = 'chamada_regular_sisu_2020_2.csv'\n",
        "\n",
        "# Base 2020-1\n",
        "sisu_2020_1 = 'chamada_regular_sisu_2020_1.csv'\n",
        "\n",
        "# Base 2019-2\n",
        "sisu_2019_2 = 'chamada_regular_sisu_2019_2.csv'\n",
        "\n",
        "# Base 2019-1\n",
        "sisu_2019_1 = 'chamada_regular_sisu_2019_1.csv'\n",
        "\n",
        "# Lista de colunas desejadas\n",
        "colunas_desejadas = ['UF_IES', 'SIGLA_IES', 'NOME_CURSO', 'TIPO_MOD_CONCORRENCIA', 'NOTA_L', 'NOTA_CH', 'NOTA_CN', 'NOTA_M', 'NOTA_R', 'NOTA_CANDIDATO', 'APROVADO']\n",
        "colunas_desejadas2 = ['SG_UF_IES', 'SIGLA_IES', 'NO_CURSO', 'TP_MOD_CONCORRENCIA', 'NU_NOTA_L', 'NU_NOTA_CH', 'NU_NOTA_CN', 'NU_NOTA_M', 'NU_NOTA_R', 'NU_NOTA_CANDIDATO', 'ST_APROVADO']\n",
        "\n",
        "# Ler o arquivo CSV incluindo apenas as colunas desejadas\n",
        "df_2022_2 = pd.read_csv(root_path + sisu_2022_2, sep='|', encoding='latin1', usecols=colunas_desejadas)\n",
        "df_2022_1 = pd.read_csv(root_path + sisu_2022_1, sep='|', encoding='latin1', usecols=colunas_desejadas)\n",
        "df_2021_2 = pd.read_csv(root_path + sisu_2021_2, sep='|', encoding='latin1', usecols=colunas_desejadas)\n",
        "df_2021_1 = pd.read_csv(root_path + sisu_2021_1, sep=';', encoding='utf-8', usecols=colunas_desejadas2)\n",
        "df_2020_2 = pd.read_csv(root_path + sisu_2020_2, sep=';', encoding='utf-8', usecols=colunas_desejadas2)\n",
        "df_2020_1 = pd.read_csv(root_path + sisu_2020_1, sep=';', encoding='utf-8', usecols=colunas_desejadas2)\n",
        "df_2019_2 = pd.read_csv(root_path + sisu_2019_2, sep=';', encoding='utf-8', usecols=colunas_desejadas2)\n",
        "df_2019_1 = pd.read_csv(root_path + sisu_2019_1, sep=';', encoding='utf-8', usecols=colunas_desejadas2)"
      ]
    },
    {
      "cell_type": "code",
      "execution_count": null,
      "metadata": {
        "id": "XkrYoIpuvcN3"
      },
      "outputs": [],
      "source": [
        "# Lista de DataFrames\n",
        "dataframes = [df_2022_2, df_2022_1, df_2021_2, df_2021_1, df_2020_2, df_2020_1, df_2019_2, df_2019_1]\n",
        "#dataframes = [df_2021_1, df_2020_2, df_2020_1, df_2019_2, df_2019_1]\n",
        "#dataframes = [df_2021_1, df_2020_2, df_2020_1, df_2019_2]\n",
        "#dataframes = [df_2021_1, df_2020_2, df_2020_1]\n",
        "#dataframes = [df_2021_1, df_2020_2]\n",
        "#dataframes = [df_2021_2, df_2022_2]\n",
        "#dataframes = [df_2022_2]\n",
        "\n",
        "# Loop sobre os DataFrames\n",
        "for df in dataframes:\n",
        "    # Renomeando as colunas conforme as regras especificadas\n",
        "    df.rename(columns={\n",
        "        'SG_UF_IES': 'UF_IES',\n",
        "        'SIGLA_IES': 'SIGLA_IES',\n",
        "        'NO_CURSO': 'NOME_CURSO',\n",
        "        'TP_MOD_CONCORRENCIA': 'TIPO_MOD_CONCORRENCIA',\n",
        "        'NU_NOTA_L': 'NOTA_L',\n",
        "        'NU_NOTA_CH': 'NOTA_CH',\n",
        "        'NU_NOTA_CN': 'NOTA_CN',\n",
        "        'NU_NOTA_M': 'NOTA_M',\n",
        "        'NU_NOTA_R': 'NOTA_R',\n",
        "        'NU_NOTA_CANDIDATO': 'NOTA_CANDIDATO',\n",
        "        'ST_APROVADO': 'APROVADO'\n",
        "    }, inplace=True)"
      ]
    },
    {
      "cell_type": "code",
      "execution_count": null,
      "metadata": {
        "id": "7MfgFgWBr2BG"
      },
      "outputs": [],
      "source": [
        "#Concatenando as Bases do SISU\n",
        "df = pd.concat([df_2022_1, df_2022_2, df_2021_2, df_2021_1, df_2020_2, df_2020_1, df_2019_2, df_2019_1], ignore_index=True)\n",
        "#df = pd.concat([df_2022_1, df_2022_2, df_2021_2, df_2021_1, df_2020_2, df_2020_1, df_2019_2], ignore_index=True)\n",
        "#df = pd.concat([df_2022_1, df_2022_2, df_2021_2, df_2021_1, df_2020_2, df_2020_1], ignore_index=True)\n",
        "#df = pd.concat([df_2022_1, df_2022_2, df_2021_2, df_2021_1, df_2020_2], ignore_index=True)\n",
        "#df = pd.concat([df_2022_1, df_2022_2, df_2021_2, df_2021_1], ignore_index=True)\n",
        "#df = pd.concat([df_2021_2, df_2022_2], ignore_index=True)\n",
        "#df = pd.concat([df_2022_2, df_2021_2], ignore_index=True)\n",
        "#df = pd.concat([df_2021_2, df_2022_2], ignore_index=True)\n",
        "#df = pd.concat([df_2022_2], ignore_index=True)"
      ]
    },
    {
      "cell_type": "code",
      "execution_count": null,
      "metadata": {
        "id": "lXivzvc3UFxz"
      },
      "outputs": [],
      "source": [
        "#removendo valores nulos\n",
        "df.dropna(inplace = True)\n",
        "\n",
        "# Substituir vírgulas por pontos e converter 'NOTA_CORTE' para tipo numérico\n",
        "df['NOTA_L'] = df['NOTA_L'].str.replace(',', '.').astype(float)\n",
        "df['NOTA_CH'] = df['NOTA_CH'].str.replace(',', '.').astype(float)\n",
        "df['NOTA_CN'] = df['NOTA_CN'].str.replace(',', '.').astype(float)\n",
        "df['NOTA_M'] = df['NOTA_M'].str.replace(',', '.').astype(float)\n",
        "df['NOTA_CANDIDATO'] = df['NOTA_CANDIDATO'].str.replace(',', '.').astype(float)\n",
        "df['NOME_CURSO'].replace(' ', '_', regex=True, inplace=True)\n",
        "df['SIGLA_IES'].replace(' ', '_', regex=True, inplace=True)\n",
        "\n",
        "# Transformando os resultados do campo APROVADO\n",
        "df['APROVADO'] = df['APROVADO'].replace({'S': 1, 'N': 0})\n",
        "\n",
        "# Mapeamento adicional para TIPO_MOD_CONCORRENCIA\n",
        "df['TIPO_MOD_CONCORRENCIA'] = df['TIPO_MOD_CONCORRENCIA'].map({\n",
        "    'L': 'C',\n",
        "    'V': 'C',\n",
        "    'B': 'C',\n",
        "}).fillna(df['TIPO_MOD_CONCORRENCIA'])\n",
        "\n",
        "df = df.rename(columns={\n",
        "  #  'NOTA_CORTE': 'NOTACORTE',\n",
        "    'NOTA_CANDIDATO': 'NOTACANDIDATO',\n",
        "    'NOTA_L': 'NOTAL',\n",
        "    'NOTA_CH': 'NOTACH',\n",
        "    'NOTA_CN': 'NOTACN',\n",
        "    'NOTA_M': 'NOTAM',\n",
        "    'NOTA_R': 'NOTAR',\n",
        "    'UF_IES': 'REGIAO',\n",
        "    'SIGLA_IES': 'SIGLAIES',\n",
        "    'NOME_CURSO': 'NOMECURSO',\n",
        "    'TIPO_MOD_CONCORRENCIA': 'TIPOCONCORRENCIA'\n",
        "})"
      ]
    },
    {
      "cell_type": "code",
      "execution_count": null,
      "metadata": {
        "id": "yscakpZYWWdX"
      },
      "outputs": [],
      "source": [
        "# Criar um dicionário de mapeamento para realizar o agrupamento\n",
        "mapeamento_ufies = {\n",
        "  'AC': 'NORTE',\n",
        "  'AL': 'NORDESTE',\n",
        "  'AP': 'NORTE',\n",
        "  'AM': 'NORTE',\n",
        "  'BA': 'NORDESTE',\n",
        "  'CE': 'NORDESTE',\n",
        "  'DF': 'CENTRO-OESTE',\n",
        "  'ES': 'SUDESTE',\n",
        "  'GO': 'CENTRO-OESTE',\n",
        "  'MA': 'NORDESTE',\n",
        "  'MT': 'CENTRO-OESTE',\n",
        "  'MS': 'CENTRO-OESTE',\n",
        "  'MG': 'SUDESTE',\n",
        "  'PA': 'NORTE',\n",
        "  'PB': 'NORDESTE',\n",
        "  'PR': 'SUL',\n",
        "  'PE': 'NORDESTE',\n",
        "  'PI': 'NORDESTE',\n",
        "  'RJ': 'SUDESTE',\n",
        "  'RN': 'NORDESTE',\n",
        "  'RS': 'SUL',\n",
        "  'RO': 'NORTE',\n",
        "  'RR': 'NORTE',\n",
        "  'SC': 'SUL',\n",
        "  'SP': 'SUDESTE',\n",
        "  'SE': 'NORDESTE',\n",
        "  'TO': 'NORTE'\n",
        "  }\n",
        "\n",
        "# Aplicar o mapeamento na coluna 'UFIES' para criar a nova coluna 'Região'\n",
        "df['UFIES'] = df['REGIAO'].map(mapeamento_ufies)"
      ]
    },
    {
      "cell_type": "code",
      "execution_count": null,
      "metadata": {
        "id": "gxNxdLbmju82"
      },
      "outputs": [],
      "source": [
        "df.drop('REGIAO', axis=1, inplace=True)"
      ]
    },
    {
      "cell_type": "code",
      "execution_count": null,
      "metadata": {
        "id": "IVbTAohtxWag"
      },
      "outputs": [],
      "source": [
        "df['SIGLAIES']=df['SIGLAIES'].astype('category')\n",
        "df['NOMECURSO']=df['NOMECURSO'].astype('category')\n",
        "df['TIPOCONCORRENCIA']=df['TIPOCONCORRENCIA'].astype('category')\n",
        "df['UFIES']=df['UFIES'].astype('category')"
      ]
    },
    {
      "cell_type": "code",
      "execution_count": null,
      "metadata": {
        "id": "LIdzNrlfEwvm"
      },
      "outputs": [],
      "source": [
        "df1 = df"
      ]
    },
    {
      "cell_type": "code",
      "execution_count": null,
      "metadata": {
        "id": "Hp_K9cEwj_S5"
      },
      "outputs": [],
      "source": [
        "# Converter colunas categóricas em variáveis numéricas\n",
        "df = pd.get_dummies(df)"
      ]
    },
    {
      "cell_type": "code",
      "execution_count": null,
      "metadata": {
        "id": "3XKVVr56Z5Bt"
      },
      "outputs": [],
      "source": [
        "X = df.drop(['APROVADO'], axis=1).copy()"
      ]
    },
    {
      "cell_type": "code",
      "execution_count": null,
      "metadata": {
        "id": "PrV159ztZ-yF"
      },
      "outputs": [],
      "source": [
        "y = df['APROVADO'].copy()"
      ]
    },
    {
      "cell_type": "code",
      "execution_count": null,
      "metadata": {
        "id": "yxxdp01haJO2"
      },
      "outputs": [],
      "source": [
        "from sklearn.model_selection import train_test_split\n",
        "\n",
        "# Divisão dos dados em conjunto de treinamento e teste\n",
        "X_train, X_test, y_train, y_test = train_test_split(X, y, stratify=y)"
      ]
    },
    {
      "cell_type": "code",
      "execution_count": null,
      "metadata": {
        "id": "JFutRQDUfy5W"
      },
      "outputs": [],
      "source": [
        "from imblearn import under_sampling, over_sampling\n",
        "from imblearn.over_sampling import RandomOverSampler\n",
        "\n",
        "ros = RandomOverSampler(random_state=0)\n",
        "X_train, y_train = ros.fit_resample(X_train, y_train)"
      ]
    },
    {
      "cell_type": "code",
      "execution_count": null,
      "metadata": {
        "id": "5m-KTwQWtecc"
      },
      "outputs": [],
      "source": [
        "import xgboost as xgb\n",
        "from statistics import mean\n",
        "\n",
        "modelo_xgb = xgb.XGBClassifier()"
      ]
    },
    {
      "cell_type": "code",
      "execution_count": null,
      "metadata": {
        "id": "erR_EBdngxlE"
      },
      "outputs": [],
      "source": [
        "# Treinar o modelo final\n",
        "modelo_xgb.fit(X_train, y_train)\n",
        "\n",
        "# Previsões no conjunto de teste\n",
        "predicoes_teste = modelo_xgb.predict(X_test)"
      ]
    },
    {
      "cell_type": "code",
      "execution_count": null,
      "metadata": {
        "id": "Z-A4rX8Dgxie"
      },
      "outputs": [],
      "source": [
        "from sklearn.metrics import classification_report\n",
        "\n",
        "# Métricas de avaliação\n",
        "report = classification_report(y_test, predicoes_teste)\n",
        "\n",
        "# Exibição do relatório\n",
        "print(report)"
      ]
    },
    {
      "cell_type": "code",
      "execution_count": null,
      "metadata": {
        "id": "KdXmHCKGwG1G"
      },
      "outputs": [],
      "source": [
        "from sklearn.metrics import confusion_matrix\n",
        "import matplotlib.pyplot as plt\n",
        "import seaborn as sns\n",
        "\n",
        "# Calcular a matriz de confusão\n",
        "conf_matrix = confusion_matrix(y_test, predicoes_teste)\n",
        "\n",
        "#Definir rótulos personalizados\n",
        "class_names = ['Não Aprovado', 'Aprovado']\n",
        "\n",
        "# Plotar a matriz de confusão com rótulos personalizados\n",
        "sns.heatmap(conf_matrix, annot=True, fmt='d', cmap='Blues', xticklabels=class_names, yticklabels=class_names)\n",
        "plt.xlabel('Previsão')\n",
        "plt.ylabel('Real')\n",
        "plt.title('Matriz de Confusão XGBClassifier')\n",
        "plt.show()"
      ]
    },
    {
      "cell_type": "code",
      "execution_count": null,
      "metadata": {
        "id": "RZsEC3q3w1ZQ"
      },
      "outputs": [],
      "source": [
        "from sklearn.metrics import roc_curve, roc_auc_score\n",
        "\n",
        "# Calcule as probabilidades de previsão\n",
        "y_pred_prob = modelo_xgb.predict_proba(X_test)[:,1]\n",
        "\n",
        "# Calcule as taxas de verdadeiros positivos e falsos positivos\n",
        "fpr, tpr, thresholds = roc_curve(y_test, y_pred_prob)\n",
        "\n",
        "# Plot ROC curve\n",
        "plt.plot([0, 1], [0, 1], 'k--')\n",
        "plt.plot(fpr, tpr)\n",
        "plt.xlabel('Taxa de Falso Positivo')\n",
        "plt.ylabel('Taxa de Verdadeiro Positivo')\n",
        "plt.title('Curva ROC')\n",
        "plt.show()\n",
        "\n",
        "# Calcule a área sob a curva ROC (AUC)\n",
        "print('AUC: ', roc_auc_score(y_test, y_pred_prob))"
      ]
    },
    {
      "cell_type": "code",
      "execution_count": null,
      "metadata": {
        "id": "bw5l0bHkxeMP"
      },
      "outputs": [],
      "source": [
        "bst = modelo_xgb.get_booster()\n",
        "for importance_type in ('weight', 'gain', 'cover', 'total_gain', 'total_cover'):\n",
        "  print('%s: ' % importance_type, bst.get_score(importance_type=importance_type))\n",
        "\n",
        "  node_params = {'shape': 'box',\n",
        "                 'style': 'filled, rounded',\n",
        "                 'fillcolor': '#78cbe'}\n",
        "  leaf_params = {'shape': 'box',\n",
        "                 'style': 'filled',\n",
        "                 'fillcolor': '#e48038'}\n",
        "\n",
        "xgb.to_graphviz(modelo_xgb, num_trees=0, size=\"10,10\",\n",
        "                condition_node_params=node_params,\n",
        "                leaf_node_params=leaf_params)"
      ]
    },
    {
      "cell_type": "code",
      "execution_count": null,
      "metadata": {
        "id": "2uCOWk-BxfLO"
      },
      "outputs": [],
      "source": [
        "################################## INPUT CANDIDATO ######################################################"
      ]
    },
    {
      "cell_type": "code",
      "execution_count": null,
      "metadata": {
        "id": "cYjcAMVqDV8n"
      },
      "outputs": [],
      "source": [
        "# Coletar as informações do candidato\n",
        "TIPOCONCORRENCIA = input(\"Tipo de modalidade de concorrência: \").strip().upper()\n",
        "REGIAO = input(\"Região do Brasil: \").strip().upper()\n",
        "NOTACANDIDATO = float(input(\"Nota: \"))"
      ]
    },
    {
      "cell_type": "code",
      "execution_count": null,
      "metadata": {
        "id": "WCswA_RSFnfq"
      },
      "outputs": [],
      "source": [
        "# Filtrar o dataframe com base nas informações do candidato\n",
        "df_filtrado = df1[(df1['TIPOCONCORRENCIA'] == TIPOCONCORRENCIA) &\n",
        "                 (df1['UFIES'] == REGIAO) &\n",
        "                 (df1['NOTACANDIDATO'] <= NOTACANDIDATO)]\n",
        "\n",
        "# Exibir o dataframe filtrado\n",
        "df_filtrado.head()"
      ]
    },
    {
      "cell_type": "code",
      "execution_count": null,
      "metadata": {
        "id": "sZJzDx53GAb6"
      },
      "outputs": [],
      "source": [
        "# Converter colunas categóricas em variáveis numéricas\n",
        "df_filtrado_encoded = pd.get_dummies(df_filtrado)"
      ]
    },
    {
      "cell_type": "code",
      "execution_count": null,
      "metadata": {
        "id": "aMtrnuhJITaQ"
      },
      "outputs": [],
      "source": [
        "# Separar a coluna alvo 'APROVADO'\n",
        "X_filtrado = df_filtrado_encoded.drop(['APROVADO'], axis=1)\n",
        "y_filtrado = df_filtrado_encoded['APROVADO']"
      ]
    },
    {
      "cell_type": "code",
      "execution_count": null,
      "metadata": {
        "id": "sNsdPNq1JzFY"
      },
      "outputs": [],
      "source": [
        "# Previsões usando o modelo XGBoost treinado\n",
        "predicoes_aprovados = modelo_xgb.predict(X_filtrado)"
      ]
    },
    {
      "cell_type": "code",
      "execution_count": null,
      "metadata": {
        "id": "Ogwte21_KsSI"
      },
      "outputs": [],
      "source": [
        "# Converter as previsões em um DataFrame com os índices redefinidos\n",
        "predicoes_df = pd.DataFrame(predicoes_aprovados, columns=['PREVISAO_APROVADO'], index=X_filtrado.index)\n",
        "\n",
        "# Concatenar os DataFrames redefinindo os índices\n",
        "df_resultado = pd.concat([X_filtrado.reset_index(drop=True), predicoes_df.reset_index(drop=True)], axis=1)"
      ]
    },
    {
      "cell_type": "code",
      "execution_count": null,
      "metadata": {
        "id": "LYJ6j_1kL0kF"
      },
      "outputs": [],
      "source": [
        "def undummify(df, prefix_sep=\"_\"):\n",
        "    cols2collapse = {\n",
        "        item.split(prefix_sep)[0]: (prefix_sep in item) for item in df.columns\n",
        "    }\n",
        "    series_list = []\n",
        "    for col, needs_to_collapse in cols2collapse.items():\n",
        "        if needs_to_collapse:\n",
        "            undummified = (\n",
        "                df.filter(like=col)\n",
        "                .idxmax(axis=1)\n",
        "                .apply(lambda x: x.split(prefix_sep, maxsplit=1)[1])\n",
        "                .rename(col)\n",
        "            )\n",
        "            series_list.append(undummified)\n",
        "        else:\n",
        "            series_list.append(df[col])\n",
        "    undummified_df = pd.concat(series_list, axis=1)\n",
        "    return undummified_df\n",
        "\n",
        "df_resultado_reverse = undummify(X_filtrado)\n",
        "\n",
        "df_resultado_reverse = df_resultado_reverse.reset_index(drop=True)"
      ]
    },
    {
      "cell_type": "code",
      "execution_count": null,
      "metadata": {
        "id": "_-S5H5aMMJbb"
      },
      "outputs": [],
      "source": [
        "df_resultado_reverse.head()"
      ]
    },
    {
      "cell_type": "code",
      "execution_count": null,
      "metadata": {
        "id": "u00YneutOJ8-"
      },
      "outputs": [],
      "source": [
        "pred_aprovados = pd.DataFrame(predicoes_aprovados)\n",
        "pred_aprovados = pred_aprovados.rename(columns={0: \"PREVISAO_APROVADO\"})\n",
        "\n",
        "df_final = pd.concat([df_resultado_reverse, pred_aprovados], axis=1)\n",
        "\n",
        "df_final.head()"
      ]
    },
    {
      "cell_type": "code",
      "execution_count": null,
      "metadata": {
        "id": "1l0XxQmoNPfn"
      },
      "outputs": [],
      "source": [
        "# Filtrar apenas os resultados iguais a 1 na coluna 'PREVISAO_APROVADO'\n",
        "df_aprovados = df_final[df_final['PREVISAO_APROVADO'] == 1]\n",
        "\n",
        "# Eliminar as colunas e remover os underscores\n",
        "df_aprovados = df_aprovados.drop(['PREVISAO_APROVADO', 'NOTAL', 'NOTACH', 'NOTACN', 'NOTAM', 'NOTAR'], axis=1)\n",
        "df_aprovados['SIGLAIES'] = df_aprovados['SIGLAIES'].str.replace('_', ' ')\n",
        "df_aprovados['NOMECURSO'] = df_aprovados['NOMECURSO'].str.replace('_', ' ')"
      ]
    },
    {
      "cell_type": "code",
      "execution_count": null,
      "metadata": {
        "id": "uO4xit1vO-9n"
      },
      "outputs": [],
      "source": [
        "# Criar uma nova coluna com o valor mínimo de NOTACANDIDATO por SIGLAIES, NOMECURSO, TIPOCONCORRENCIA e UFIES\n",
        "df_aprovados['NOTA'] = df_aprovados.groupby(['SIGLAIES', 'NOMECURSO', 'TIPOCONCORRENCIA', 'UFIES'])['NOTACANDIDATO'].transform('min')\n",
        "\n",
        "# Eliminar o campo 'NOTACANDIDATO'\n",
        "df_aprovados = df_aprovados.drop(['NOTACANDIDATO'], axis=1)\n",
        "\n",
        "# Remover duplicatas\n",
        "df_aprovados = df_aprovados.drop_duplicates()\n",
        "\n",
        "# Ordenar df_aprovados pelo campo MIN_NOTACANDIDATO em ordem decrescente\n",
        "df_aprovados = df_aprovados.sort_values(by='NOTA', ascending=False)"
      ]
    },
    {
      "cell_type": "code",
      "execution_count": null,
      "metadata": {
        "id": "BexmAdWKRpG4"
      },
      "outputs": [],
      "source": [
        "# Verificar se df_resultado está vazio\n",
        "if df_aprovados.empty:\n",
        "    mensagem = \"Que pena! Com sua nota e preferências, o modelo não conseguiu prever nenhuma aprovação.\"\n",
        "else:\n",
        "    mensagem = f\"Parabéns com Nota {NOTACANDIDATO} no SISU, Modalidade de Concorrência {TIPOCONCORRENCIA} e região {REGIAO}, o modelo prevê que você conseguiria aprovação nos seguintes cursos e instituições:\\n\\n\"\n",
        "    for index, row in df_aprovados.iterrows():\n",
        "        mensagem += f\"\\n{row['NOMECURSO']} em {row['SIGLAIES']} onde a nota de corte mínima histórica foi de {row['NOTA']}. \\n\"\n",
        "\n",
        "# Exibir a mensagem\n",
        "print(mensagem)"
      ]
    }
  ],
  "metadata": {
    "accelerator": "GPU",
    "colab": {
      "provenance": [],
      "gpuType": "T4",
      "authorship_tag": "ABX9TyOK40l4zQRI06Y5R4AqcNJJ",
      "include_colab_link": true
    },
    "kernelspec": {
      "display_name": "Python 3",
      "name": "python3"
    },
    "language_info": {
      "name": "python"
    }
  },
  "nbformat": 4,
  "nbformat_minor": 0
}